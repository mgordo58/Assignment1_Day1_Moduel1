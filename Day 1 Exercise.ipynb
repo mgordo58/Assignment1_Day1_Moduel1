{
 "cells": [
  {
   "cell_type": "markdown",
   "metadata": {},
   "source": [
    "## Questions"
   ]
  },
  {
   "cell_type": "markdown",
   "metadata": {},
   "source": [
    "1. Decode this secrete message:\n",
    "01001100 01101111 01100111 01101001 01100011"
   ]
  },
  {
   "cell_type": "markdown",
   "metadata": {},
   "source": [
    "Logic"
   ]
  },
  {
   "cell_type": "markdown",
   "metadata": {},
   "source": [
    "2. Identify and explain stages of Programming."
   ]
  },
  {
   "cell_type": "markdown",
   "metadata": {},
   "source": [
    "Requirement Analysis: Focuses on the tasks that determine the needs or conditions to meet new or altered products or projects. It also takes into account the possibly conflicting requirements of the various analyzing, documenting, validating, and managing software or it's system requirements.\n",
    "\n",
    "Design: A process of planning and organizing the structure and functionality of a computer program before its implementation. This involves identifying a problem to be solved, determining the requirements for the program, and outlining the algorithms and data structures that will be used to solve the problem by creating flowcharts, pseudocode, IPO (Input,Process,output) or other visual representations for the program's structure to aid in the development process.\n",
    "\n",
    "Implementation: Refers to installing new hardware, software, or applications. It can also mean the inclusion of a specific technical specification, software component or a software development tool that contain implementations of a programming language.\n",
    "\n",
    "Testing: Checking the functionality and performance of a software before or durning the launching of a programs sorfware or hardware. This involves testing the unit by testing on an individual unit in an application, testing the system programming, and the integration of the software on groups of application units to see how they work together.\n",
    "\n",
    "Installation: The act of making the program ready for use. Installation also refers to the particular configuration of software or hardware ready to be usable with the computer. This also require to run maintance such as bug fixes, enhancements, and upgrading.\n"
   ]
  },
  {
   "cell_type": "markdown",
   "metadata": {},
   "source": [
    "3. Explain why do we use Selection? What kind of Statements or code do we use with that?"
   ]
  },
  {
   "cell_type": "markdown",
   "metadata": {},
   "source": [
    "Selection is one of the three controled sturctues that's part of the stuctured theorem. The selection helps in making decisions program. In the selection structure, a sequence of statements are used using the keywords or code such as IF, THEN, ELSE and ENDIF.\n",
    "\n",
    "This also works on the basis of True/False conditions.  If the condition mentioned in the program becomes true, the program statements under the true block will get executed the same when the program becomes false, the program statements under the false block will get executed."
   ]
  },
  {
   "cell_type": "markdown",
   "metadata": {},
   "source": [
    "4. Explain why do we use Sequence? Why is this part integral?"
   ]
  },
  {
   "cell_type": "markdown",
   "metadata": {},
   "source": [
    "Sequence is the first step in the programming fundamentals regardless of what kind of code we use. \n",
    "It is one step after another, meaning activity an action can only be performed after another is completed.\n",
    "\n",
    "This part is intergral because it has to be ordered linearly. A sequences may contain plenty of actions, but none of the actions can be skipped; every action must be performed in a step by step."
   ]
  },
  {
   "cell_type": "markdown",
   "metadata": {},
   "source": [
    "5. Explain why do we use Repetition? What kind of statements or code do we use with that?"
   ]
  },
  {
   "cell_type": "markdown",
   "metadata": {},
   "source": [
    "Repetition or a loop statment is used to run something on a program repeatedly until a certain condition is met.\n",
    "\n",
    "We use this when a program needs to repeat a set of statements; or a block statement, needs to be executed again and again more than once until certain conditions are meet.\n",
    "\n",
    "The main keywords and code used in a loop structure are WHILE, DO WHILE, END WHILE, SWITCH"
   ]
  },
  {
   "cell_type": "markdown",
   "metadata": {},
   "source": [
    "6. Knowing all this, explain why do we use the Structured Program Theorom and why do you need to know it?"
   ]
  },
  {
   "cell_type": "markdown",
   "metadata": {},
   "source": [
    "In any programming we have to use the Structured Program Theorom because its the basis concept that is used to build a framework for programming statements. We need to know it because in order to perform any programming on a software or website then we have to do the basic step by step of structures that uses three ways of combining a programs sequencing, selection, and repitition.  "
   ]
  },
  {
   "cell_type": "code",
   "execution_count": null,
   "metadata": {},
   "outputs": [],
   "source": []
  }
 ],
 "metadata": {
  "kernelspec": {
   "display_name": "Python 3 (ipykernel)",
   "language": "python",
   "name": "python3"
  },
  "language_info": {
   "codemirror_mode": {
    "name": "ipython",
    "version": 3
   },
   "file_extension": ".py",
   "mimetype": "text/x-python",
   "name": "python",
   "nbconvert_exporter": "python",
   "pygments_lexer": "ipython3",
   "version": "3.11.4"
  }
 },
 "nbformat": 4,
 "nbformat_minor": 4
}
